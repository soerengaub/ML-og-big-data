{
 "cells": [
  {
   "cell_type": "markdown",
   "metadata": {},
   "source": [
    "# Python for data processing (Numby m.v.)"
   ]
  },
  {
   "cell_type": "code",
   "execution_count": null,
   "metadata": {},
   "outputs": [],
   "source": [
    " import numpy as np\n",
    " # 1D and 2D array\n",
    " a = np.array([1, 2, 3])\n",
    " b = np.array([[1, 2, 3], [4, 5, 6], [7, 8, 9]])\n",
    " #print(a, b)\n",
    " # nD array\n",
    " c = np.array([[[1, 2, 3], [4, 5, 6]], [[7, 8, 9], [10, 11, 12]]])\n",
    " print(c)"
   ]
  },
  {
   "cell_type": "code",
   "execution_count": null,
   "metadata": {},
   "outputs": [],
   "source": [
    " b = np.array([[1, 2, 3], [4, 5, 6], [7, 8, 9]])\n",
    " print(\"Dimensions:\", b.ndim)\n",
    " print(\"Shape:\", b.shape)\n",
    " print(\"Size:\", b.size)\n",
    " print(\"Data type:\", b.dtype)"
   ]
  },
  {
   "cell_type": "code",
   "execution_count": null,
   "metadata": {},
   "outputs": [],
   "source": [
    "# Element-wise addition\n",
    "print(a + a)\n",
    "# Element-wise multiplication\n",
    "print(a * a)\n",
    "# Matrix multiplication\n",
    "print(np.dot(a, a))\n",
    "# Matrix transpose\n",
    "print(b.T)"
   ]
  },
  {
   "cell_type": "code",
   "execution_count": null,
   "metadata": {},
   "outputs": [],
   "source": [
    "b**2"
   ]
  },
  {
   "cell_type": "code",
   "execution_count": null,
   "metadata": {},
   "outputs": [],
   "source": [
    "import pandas as pd\n",
    "series = pd.Series([\"BMW\", \"Toyota\", \"Honda\"])\n",
    "print(series)\n",
    "a = np.array([\"hello\", 123])\n",
    "series_2 = pd.Series(a)\n",
    "print(series_2) "
   ]
  },
  {
   "cell_type": "code",
   "execution_count": null,
   "metadata": {},
   "outputs": [],
   "source": [
    "data = {\n",
    " 'Name': ['Alice', 'Bob', 'Charlie'],\n",
    " 'Age': [25, 30, 35],\n",
    " 'City': ['New York', 'Paris', 'London']\n",
    "}\n",
    "df = pd.DataFrame(data)\n",
    "print(df)"
   ]
  },
  {
   "cell_type": "code",
   "execution_count": null,
   "metadata": {},
   "outputs": [],
   "source": [
    "ages = df['Age']\n",
    "print(ages)\n",
    "\n",
    "subset = df[['Name', 'City']]\n",
    "print(subset)\n",
    "\n",
    "first_two_rows = df.iloc[:2]\n",
    "print(first_two_rows)"
   ]
  },
  {
   "cell_type": "code",
   "execution_count": null,
   "metadata": {},
   "outputs": [],
   "source": [
    "older_than_30 = df[df['Age'] > 30]\n",
    "print(older_than_30)    \n",
    "\n",
    "mean_age_by_city = df.groupby('City')['Age'].mean()\n",
    "print(mean_age_by_city)"
   ]
  },
  {
   "cell_type": "markdown",
   "metadata": {},
   "source": [
    "# Linear algebra"
   ]
  },
  {
   "cell_type": "code",
   "execution_count": null,
   "metadata": {},
   "outputs": [],
   "source": [
    " # Sample data\n",
    " data = {\n",
    " 'X1': [2, 3, 5, 7, 9, 6, 4, 8, 1, 0],\n",
    " 'X2': [1, 4, 7, 2, 8, 3, 5, 0, 6, 9],\n",
    " 'Y': [0, 0, 1, 1, 1, 0, 0, 1, 1, 0]\n",
    " }\n",
    " # Creating a DataFrame\n",
    " df = pd.DataFrame(data)"
   ]
  },
  {
   "cell_type": "code",
   "execution_count": null,
   "metadata": {},
   "outputs": [],
   "source": [
    "from sklearn.model_selection import train_test_split\n",
    "# Splitting the data into features and target variable\n",
    "X = df[['X1', 'X2']]\n",
    "y = df['Y']\n",
    "# Splitting the dataset into training and testing sets\n",
    "X_train, X_test, y_train, y_test = train_test_split(X, y,\n",
    "test_size=0.3, random_state=42)"
   ]
  },
  {
   "cell_type": "code",
   "execution_count": null,
   "metadata": {},
   "outputs": [],
   "source": [
    "from sklearn.linear_model import LogisticRegression\n",
    "# Creating a Logistic Regression model\n",
    "model = LogisticRegression()\n"
   ]
  },
  {
   "cell_type": "markdown",
   "metadata": {},
   "source": [
    "# Proability theory"
   ]
  },
  {
   "cell_type": "code",
   "execution_count": null,
   "metadata": {},
   "outputs": [],
   "source": [
    "import numpy as np\n",
    "\n",
    "# Step 1: Choose an arbitrary distribution\n",
    "size = 1000  # Define the size of the original distribution\n",
    "original_distribution = np.random.uniform(0, 1, size)\n",
    "\n",
    "# Step 2 and 3: Generate samples and calculate their means\n",
    "sample_sizes = [10, 30, 50, 100]  # Different sample sizes\n",
    "mean_of_samples = {\n",
    "\tsample_size: [np.mean(\n",
    "\t\tnp.random.choice(\n",
    "\t\t\toriginal_distribution, sample_size\n",
    "\t\t)\n",
    "\t) for _ in range(1000)\n",
    "\t] for sample_size in sample_sizes\n",
    "}\n",
    "\n",
    "#print(mean_of_samples)  \n",
    "#print(mean_of_samples[10])  \n",
    "print(sample_sizes)"
   ]
  },
  {
   "cell_type": "markdown",
   "metadata": {},
   "source": [
    "# Mathematical observation"
   ]
  },
  {
   "cell_type": "code",
   "execution_count": null,
   "metadata": {},
   "outputs": [],
   "source": []
  }
 ],
 "metadata": {
  "kernelspec": {
   "display_name": "base",
   "language": "python",
   "name": "python3"
  },
  "language_info": {
   "codemirror_mode": {
    "name": "ipython",
    "version": 3
   },
   "file_extension": ".py",
   "mimetype": "text/x-python",
   "name": "python",
   "nbconvert_exporter": "python",
   "pygments_lexer": "ipython3",
   "version": "3.12.7"
  }
 },
 "nbformat": 4,
 "nbformat_minor": 2
}
